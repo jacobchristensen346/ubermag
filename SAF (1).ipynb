{
 "cells": [
  {
   "cell_type": "code",
   "execution_count": 2,
   "id": "b7487e60-5920-4025-a23e-e588541be073",
   "metadata": {},
   "outputs": [],
   "source": [
    "import discretisedfield as df\n",
    "import micromagneticmodel as mm\n",
    "import random"
   ]
  },
  {
   "cell_type": "code",
   "execution_count": null,
   "id": "1eda8dcc-5943-4abf-856d-0e76bacd5876",
   "metadata": {},
   "outputs": [],
   "source": [
    "# Geometry\n",
    "ferro_thickness = 10e-9 # thickness of ferromagnetic films\n",
    "spacer_thickness = 2e-9 # thickness of space film\n",
    "length = 60e-9 # length of films\n",
    "width = 60e-9 # width of films\n",
    "\n",
    "# Material Parameters\n",
    "Ms = 7e5 # saturation magnetization\n",
    "A = 1.0e-11 # intralayer exchange energy constant\n",
    "Ku = 1.0e5 # uniaxial anisotropy constant\n",
    "u = (1,0,0) # direction of anisotropy\n",
    "sigma = -1e-4 #interlayer antiferromagnetic coupling strength\n",
    "\n",
    "# Magnetization Field Parameters\n",
    "p1 = (-(length/2), -(width/2), -(spacer_thickness + ferro_thickness*2)) # points to define the space that the films fill\n",
    "p2 = ((length/2), (width/2), (spacer_thickness + ferro_thickness*2))\n",
    "region = df.Region(p1=p1, p2=p2) # defining the region\n",
    "cell = (3e-9, 3e-9, 2e-9) # discretized cell\n",
    "mesh = df.Mesh(region=region, cell=cell)  # mesh definition\n",
    "\n",
    "def Ms_value(point):\n",
    "    x, y, z = point\n",
    "    if (|x| <= length/2) and (|y| <= width/2) and (|z| >= spacer_thickness/2 and |z| <= (spacer_thickness + ferro_thickness*2)/2):\n",
    "        return Ms\n",
    "    else:\n",
    "        return 0\n",
    "\n",
    "random.seed() # initiate a random seed\n",
    "m = df.Field(mesh, dim=3, value=(0, 0, 1), norm=Ms)"
   ]
  }
 ],
 "metadata": {
  "kernelspec": {
   "display_name": "Python 3 (ipykernel)",
   "language": "python",
   "name": "python3"
  },
  "language_info": {
   "codemirror_mode": {
    "name": "ipython",
    "version": 3
   },
   "file_extension": ".py",
   "mimetype": "text/x-python",
   "name": "python",
   "nbconvert_exporter": "python",
   "pygments_lexer": "ipython3",
   "version": "3.8.0"
  }
 },
 "nbformat": 4,
 "nbformat_minor": 5
}
