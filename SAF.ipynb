{
 "cells": [
  {
   "cell_type": "code",
   "execution_count": 2,
   "id": "b7487e60-5920-4025-a23e-e588541be073",
   "metadata": {},
   "outputs": [],
   "source": [
    "import discretisedfield as df\n",
    "import micromagneticmodel as mm\n",
    "import random"
   ]
  },
  {
   "cell_type": "code",
   "execution_count": null,
   "id": "1eda8dcc-5943-4abf-856d-0e76bacd5876",
   "metadata": {},
   "outputs": [],
   "source": [
    "# Geometry\n",
    "ferro_thickness = 10\n",
    "spacer_thickness = 2\n",
    "length = 60\n",
    "width = 60\n",
    "\n",
    "# Material Parameters\n",
    "Ms = 7e5 # saturation magnetization\n",
    "A = 1.0e-11 # intralayer exchange energy constant\n",
    "Ku = 1.0e5 # uniaxial anisotropy constant\n",
    "u = (1,0,0) # direction of anisotropy\n",
    "sigma = -1e-4 #interlayer antiferromagnetic coupling strength\n"
   ]
  }
 ],
 "metadata": {
  "kernelspec": {
   "display_name": "Python 3 (ipykernel)",
   "language": "python",
   "name": "python3"
  },
  "language_info": {
   "codemirror_mode": {
    "name": "ipython",
    "version": 3
   },
   "file_extension": ".py",
   "mimetype": "text/x-python",
   "name": "python",
   "nbconvert_exporter": "python",
   "pygments_lexer": "ipython3",
   "version": "3.8.0"
  }
 },
 "nbformat": 4,
 "nbformat_minor": 5
}
